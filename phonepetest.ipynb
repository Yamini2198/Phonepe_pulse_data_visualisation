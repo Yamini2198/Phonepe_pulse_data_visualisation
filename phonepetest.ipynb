{
 "cells": [
  {
   "cell_type": "code",
   "execution_count": null,
   "metadata": {},
   "outputs": [],
   "source": [
    "import os\n",
    "import json\n",
    "import pandas as pd\n",
    "import mysql.connector as sql\n"
   ]
  },
  {
   "cell_type": "code",
   "execution_count": null,
   "metadata": {},
   "outputs": [],
   "source": [
    "#aggre_transaction\n",
    "\n",
    "\n",
    "path1=\"D:/practices/phonepe/pulse/data/aggregated/transaction/country/india/state/\"\n",
    "agg_trans_list=os.listdir(path1)\n",
    "\n",
    "columns1 = {\"States\":[],\"Years\":[],\"Quarter\":[],\"Transaction_type\":[],\"Transaction_count\":[],\"Transaction_amount\":[]}\n",
    "\n",
    "for state in agg_trans_list:\n",
    "    cur_states = path1+state+\"/\"\n",
    "    agg_year_list = os.listdir(cur_states)\n",
    "    \n",
    "    for year in agg_year_list:\n",
    "        cur_year = cur_states+year+\"/\"\n",
    "        agg_file_list = os.listdir(cur_year)\n",
    "        \n",
    "\n",
    "        for file in agg_file_list:\n",
    "            cur_file = cur_year+file\n",
    "            data = open(cur_file,\"r\")\n",
    "            \n",
    "            A = json.load(data)\n",
    "\n",
    "            for i in A [\"data\"][\"transactionData\"]:\n",
    "                name = i[\"name\"]\n",
    "                count = i[\"paymentInstruments\"][0][\"count\"]\n",
    "                amount = i[\"paymentInstruments\"][0][\"amount\"]\n",
    "                columns1[\"Transaction_type\"].append(name)\n",
    "                columns1[\"Transaction_count\"].append(count)\n",
    "                columns1[\"Transaction_amount\"].append(amount)\n",
    "                columns1[\"States\"].append(state)\n",
    "                columns1[\"Years\"].append(year)\n",
    "                columns1[\"Quarter\"].append(int(file.strip(\".json\")))\n",
    "                \n",
    "            "
   ]
  },
  {
   "cell_type": "code",
   "execution_count": null,
   "metadata": {},
   "outputs": [],
   "source": [
    "df_aggre_transaction = pd.DataFrame(columns1)"
   ]
  },
  {
   "cell_type": "code",
   "execution_count": null,
   "metadata": {},
   "outputs": [],
   "source": [
    "df_aggre_transaction"
   ]
  },
  {
   "cell_type": "code",
   "execution_count": null,
   "metadata": {},
   "outputs": [],
   "source": [
    "#aggre_user\n",
    "\n",
    "path2 = \"D:/practices/phonepe/pulse/data/aggregated/user/country/india/state/\"\n",
    "agg_user_list=os.listdir(path2)\n",
    "\n",
    "\n",
    "columns2 = {\"States\":[],\"Years\":[],\"Quarter\":[],\"Brands\":[],\"Transaction_count\":[],\"Percentage\":[]}\n",
    "\n",
    "for state in agg_user_list:\n",
    "    cur_states = path2+state+\"/\"\n",
    "    agg_year_list = os.listdir(cur_states)\n",
    "    \n",
    "    for year in agg_year_list:\n",
    "        cur_year = cur_states+year+\"/\"\n",
    "        agg_file_list = os.listdir(cur_year)\n",
    "        \n",
    "\n",
    "        for file in agg_file_list:\n",
    "            cur_file = cur_year+file\n",
    "            data = open(cur_file,\"r\")\n",
    "            \n",
    "            B = json.load(data)\n",
    "            \n",
    "            try:\n",
    "                for i in B[\"data\"][\"usersByDevice\"]:\n",
    "                    brand = i[\"brand\"]\n",
    "                    count = i[\"count\"]\n",
    "                    percentage = i[\"percentage\"]\n",
    "                    columns2[\"Brands\"].append(brand)\n",
    "                    columns2[\"Transaction_count\"].append(count)\n",
    "                    columns2[\"Percentage\"].append(percentage)\n",
    "                    columns2[\"States\"].append(state)\n",
    "                    columns2[\"Years\"].append(year)\n",
    "                    columns2[\"Quarter\"].append(int(file.strip(\".json\")))\n",
    "\n",
    "            except:\n",
    "                pass\n",
    "            "
   ]
  },
  {
   "cell_type": "code",
   "execution_count": null,
   "metadata": {},
   "outputs": [],
   "source": [
    "df_aggre_user = pd.DataFrame(columns2)\n"
   ]
  },
  {
   "cell_type": "code",
   "execution_count": null,
   "metadata": {},
   "outputs": [],
   "source": [
    "df_aggre_user"
   ]
  },
  {
   "cell_type": "code",
   "execution_count": null,
   "metadata": {},
   "outputs": [],
   "source": [
    "#aggre_insurance\n",
    "path3 = \"D:/practices/phonepe/pulse/data/aggregated/insurance/country/india/state/\"\n",
    "map_trans_list=os.listdir(path3)\n",
    "\n",
    "columns3 = {\"States\":[],\"Years\":[],\"Quarter\":[],\"Insurance_type\":[],\"Insurance_count\":[],\"Insurance_amount\":[]}\n",
    "\n",
    "for state in map_trans_list:\n",
    "    cur_states = path3+state+\"/\"\n",
    "    agg_year_list = os.listdir(cur_states)\n",
    "    \n",
    "    for year in agg_year_list:\n",
    "        cur_year = cur_states+year+\"/\"\n",
    "        agg_file_list = os.listdir(cur_year)\n",
    "        \n",
    "\n",
    "        for file in agg_file_list:\n",
    "            cur_file = cur_year+file\n",
    "            data = open(cur_file,\"r\")\n",
    "            \n",
    "            C = json.load(data)\n",
    "            \n",
    "            for i in C[\"data\"][\"transactionData\"]:\n",
    "                name = i[\"name\"]\n",
    "                count = i[\"paymentInstruments\"][0][\"count\"]\n",
    "                amount = i[\"paymentInstruments\"][0][\"amount\"]\n",
    "                columns3[\"Insurance_type\"].append(name)\n",
    "                columns3[\"Insurance_count\"].append(count)\n",
    "                columns3[\"Insurance_amount\"].append(amount)\n",
    "                columns3[\"States\"].append(state)\n",
    "                columns3[\"Years\"].append(year)\n",
    "                columns3[\"Quarter\"].append(int(file.strip(\".json\")))"
   ]
  },
  {
   "cell_type": "code",
   "execution_count": null,
   "metadata": {},
   "outputs": [],
   "source": [
    "df_aggre_insurance = pd.DataFrame(columns3)"
   ]
  },
  {
   "cell_type": "code",
   "execution_count": null,
   "metadata": {},
   "outputs": [],
   "source": [
    "df_aggre_insurance"
   ]
  },
  {
   "cell_type": "code",
   "execution_count": null,
   "metadata": {},
   "outputs": [],
   "source": [
    "#map_transaction\n",
    "\n",
    "path4 = \"D:/practices/phonepe/pulse/data/map/transaction/hover/country/india/state/\"\n",
    "map_trans_list=os.listdir(path4)\n",
    "\n",
    "columns4 = {\"States\":[],\"Years\":[],\"Quarter\":[],\"Districts\":[],\"Transaction_count\":[],\"Transaction_amount\":[]}\n",
    "\n",
    "for state in map_trans_list:\n",
    "    cur_states = path4+state+\"/\"\n",
    "    agg_year_list = os.listdir(cur_states)\n",
    "    \n",
    "    for year in agg_year_list:\n",
    "        cur_year = cur_states+year+\"/\"\n",
    "        agg_file_list = os.listdir(cur_year)\n",
    "        \n",
    "\n",
    "        for file in agg_file_list:\n",
    "            cur_file = cur_year+file\n",
    "            data = open(cur_file,\"r\")\n",
    "            \n",
    "            D = json.load(data)\n",
    "            \n",
    "            for i in D[\"data\"][\"hoverDataList\"]:\n",
    "                    name = i[\"name\"]\n",
    "                    count = i[\"metric\"][0][\"count\"]\n",
    "                    amount = i[\"metric\"][0][\"amount\"]\n",
    "                    columns4[\"Districts\"].append(name)\n",
    "                    columns4[\"Transaction_count\"].append(count)\n",
    "                    columns4[\"Transaction_amount\"].append(amount)\n",
    "                    columns4[\"States\"].append(state)\n",
    "                    columns4[\"Years\"].append(year)\n",
    "                    columns4[\"Quarter\"].append(int(file.strip(\".json\")))"
   ]
  },
  {
   "cell_type": "code",
   "execution_count": null,
   "metadata": {},
   "outputs": [],
   "source": [
    "df_map_transaction = pd.DataFrame(columns4)"
   ]
  },
  {
   "cell_type": "code",
   "execution_count": null,
   "metadata": {},
   "outputs": [],
   "source": [
    "df_map_transaction"
   ]
  },
  {
   "cell_type": "code",
   "execution_count": null,
   "metadata": {},
   "outputs": [],
   "source": [
    "#map_user\n",
    "\n",
    "path5 = \"D:/practices/phonepe/pulse/data/map/user/hover/country/india/state/\"\n",
    "map_user_list=os.listdir(path5)\n",
    "\n",
    "columns5 = {\"States\":[],\"Years\":[],\"Quarter\":[],\"Districts\":[],\"RegisteredUsers\":[],\"AppOpens\":[]}\n",
    "\n",
    "for state in map_user_list:\n",
    "    cur_states = path5+state+\"/\"\n",
    "    agg_year_list = os.listdir(cur_states)\n",
    "    \n",
    "    for year in agg_year_list:\n",
    "        cur_year = cur_states+year+\"/\"\n",
    "        agg_file_list = os.listdir(cur_year)\n",
    "        \n",
    "\n",
    "        for file in agg_file_list:\n",
    "            cur_file = cur_year+file\n",
    "            data = open(cur_file,\"r\")\n",
    "            \n",
    "            E = json.load(data)\n",
    "            \n",
    "            for i in E[\"data\"][\"hoverData\"].items():\n",
    "                district = i[0]\n",
    "                registeredUsers= i[1][\"registeredUsers\"]\n",
    "                appOpens = i[1][\"appOpens\"]\n",
    "                columns5[\"Districts\"].append(district)\n",
    "                columns5[\"RegisteredUsers\"].append(registeredUsers)\n",
    "                columns5[\"AppOpens\"].append(appOpens)\n",
    "                columns5[\"States\"].append(state)\n",
    "                columns5[\"Years\"].append(year)\n",
    "                columns5[\"Quarter\"].append(int(file.strip(\".json\")))"
   ]
  },
  {
   "cell_type": "code",
   "execution_count": null,
   "metadata": {},
   "outputs": [],
   "source": [
    "df_map_user = pd.DataFrame(columns4)"
   ]
  },
  {
   "cell_type": "code",
   "execution_count": null,
   "metadata": {},
   "outputs": [],
   "source": [
    "df_map_user"
   ]
  },
  {
   "cell_type": "code",
   "execution_count": null,
   "metadata": {},
   "outputs": [],
   "source": [
    "#map_insurance\n",
    "path6 = \"D:/practices/phonepe/pulse/data/map/insurance/hover/country/india/state/\"\n",
    "map_trans_list=os.listdir(path6)\n",
    "\n",
    "columns6 = {\"States\":[],\"Years\":[],\"Quarter\":[],\"Districts\":[],\"Transaction_count\":[],\"Transaction_amount\":[]}\n",
    "\n",
    "for state in map_trans_list:\n",
    "    cur_states = path6+state+\"/\"\n",
    "    agg_year_list = os.listdir(cur_states)\n",
    "    \n",
    "    for year in agg_year_list:\n",
    "        cur_year = cur_states+year+\"/\"\n",
    "        agg_file_list = os.listdir(cur_year)\n",
    "        \n",
    "\n",
    "        for file in agg_file_list:\n",
    "            cur_file = cur_year+file\n",
    "            data = open(cur_file,\"r\")\n",
    "            \n",
    "            F = json.load(data)\n",
    "            \n",
    "            for i in F[\"data\"][\"hoverDataList\"]:\n",
    "                name = i[\"name\"]\n",
    "                count= i[\"metric\"][0][\"count\"]\n",
    "                amount = i[\"metric\"][0][\"amount\"]\n",
    "                columns6[\"Districts\"].append(name)\n",
    "                columns6[\"Transaction_count\"].append(count)\n",
    "                columns6[\"Transaction_amount\"].append(amount)\n",
    "                columns6[\"States\"].append(state)\n",
    "                columns6[\"Years\"].append(year)\n",
    "                columns6[\"Quarter\"].append(int(file.strip(\".json\")))"
   ]
  },
  {
   "cell_type": "code",
   "execution_count": null,
   "metadata": {},
   "outputs": [],
   "source": [
    "df_map_insurance = pd.DataFrame(columns6)"
   ]
  },
  {
   "cell_type": "code",
   "execution_count": null,
   "metadata": {},
   "outputs": [],
   "source": [
    "df_map_insurance"
   ]
  },
  {
   "cell_type": "code",
   "execution_count": null,
   "metadata": {},
   "outputs": [],
   "source": [
    "#top_transaction\n",
    "\n",
    "path7=\"D:/practices/phonepe/pulse/data/top/transaction/country/india/state/\"\n",
    "map_trans_list=os.listdir(path7)\n",
    "\n",
    "columns7 = {\"States\":[],\"Years\":[],\"Quarter\":[],\"EntityName\":[],\"Transaction_count\":[],\"Transaction_amount\":[]}\n",
    "\n",
    "for state in map_trans_list:\n",
    "    cur_states = path7+state+\"/\"\n",
    "    agg_year_list = os.listdir(cur_states)\n",
    "    \n",
    "    for year in agg_year_list:\n",
    "        cur_year = cur_states+year+\"/\"\n",
    "        agg_file_list = os.listdir(cur_year)\n",
    "        \n",
    "\n",
    "        for file in agg_file_list:\n",
    "            cur_file = cur_year+file\n",
    "            data = open(cur_file,\"r\")\n",
    "            \n",
    "            G = json.load(data)\n",
    "\n",
    "            for i in G[\"data\"][\"pincodes\"]:\n",
    "                name = i[\"entityName\"]\n",
    "                count = i[\"metric\"][\"count\"]\n",
    "                amount = i[\"metric\"][\"amount\"]\n",
    "                columns7[\"EntityName\"].append(name)\n",
    "                columns7[\"Transaction_count\"].append(count)\n",
    "                columns7[\"Transaction_amount\"].append(amount)\n",
    "                columns7[\"States\"].append(state)\n",
    "                columns7[\"Years\"].append(year)\n",
    "                columns7[\"Quarter\"].append(int(file.strip(\".json\")))\n"
   ]
  },
  {
   "cell_type": "code",
   "execution_count": null,
   "metadata": {},
   "outputs": [],
   "source": [
    "df_top_transaction = pd.DataFrame(columns7)"
   ]
  },
  {
   "cell_type": "code",
   "execution_count": null,
   "metadata": {},
   "outputs": [],
   "source": [
    "df_top_transaction"
   ]
  },
  {
   "cell_type": "code",
   "execution_count": null,
   "metadata": {},
   "outputs": [],
   "source": [
    "#top_user\n",
    "\n",
    "path8 = \"D:/practices/phonepe/pulse/data/top/user/country/india/state/\"\n",
    "map_trans_list=os.listdir(path8)\n",
    "\n",
    "columns8 = {\"States\":[],\"Years\":[],\"Quarter\":[],\"Name\":[],\"RegisteredUsers\":[],}\n",
    "\n",
    "for state in map_trans_list:\n",
    "    cur_states = path8+state+\"/\"\n",
    "    agg_year_list = os.listdir(cur_states)\n",
    "    \n",
    "    for year in agg_year_list:\n",
    "        cur_year = cur_states+year+\"/\"\n",
    "        agg_file_list = os.listdir(cur_year)\n",
    "        \n",
    "\n",
    "        for file in agg_file_list:\n",
    "            cur_file = cur_year+file\n",
    "            data = open(cur_file,\"r\")\n",
    "            \n",
    "            H = json.load(data)\n",
    "\n",
    "            for i in H[\"data\"][\"pincodes\"]:\n",
    "                name = i[\"name\"]\n",
    "                registeredUsers = i[\"registeredUsers\"]\n",
    "                columns8[\"Name\"].append(name)\n",
    "                columns8[\"RegisteredUsers\"].append(registeredUsers)\n",
    "                columns8[\"States\"].append(state)\n",
    "                columns8[\"Years\"].append(year)\n",
    "                columns8[\"Quarter\"].append(int(file.strip(\".json\")))\n"
   ]
  },
  {
   "cell_type": "code",
   "execution_count": null,
   "metadata": {},
   "outputs": [],
   "source": [
    "df_top_user = pd.DataFrame(columns8)"
   ]
  },
  {
   "cell_type": "code",
   "execution_count": null,
   "metadata": {},
   "outputs": [],
   "source": [
    "df_top_user"
   ]
  },
  {
   "cell_type": "code",
   "execution_count": null,
   "metadata": {},
   "outputs": [],
   "source": [
    "#top_insurance\n",
    "\n",
    "path9 = \"D:/practices/phonepe/pulse/data/top/insurance/country/india/state/\"\n",
    "map_trans_list=os.listdir(path9)\n",
    "\n",
    "columns9 = {\"States\":[],\"Years\":[],\"Quarter\":[],\"EntityName\":[],\"Transaction_count\":[],\"Transaction_amount\":[]}\n",
    "\n",
    "for state in map_trans_list:\n",
    "    cur_states = path9+state+\"/\"\n",
    "    agg_year_list = os.listdir(cur_states)\n",
    "    \n",
    "    for year in agg_year_list:\n",
    "        cur_year = cur_states+year+\"/\"\n",
    "        agg_file_list = os.listdir(cur_year)\n",
    "        \n",
    "\n",
    "        for file in agg_file_list:\n",
    "            cur_file = cur_year+file\n",
    "            data = open(cur_file,\"r\")\n",
    "            \n",
    "            J = json.load(data)\n",
    "            \n",
    "            for i in J[\"data\"][\"pincodes\"]:\n",
    "                entityName = i[\"entityName\"]\n",
    "                count = i[\"metric\"][\"count\"]\n",
    "                amount = i[\"metric\"][\"amount\"]\n",
    "                columns9[\"EntityName\"].append(name)\n",
    "                columns9[\"Transaction_count\"].append(count)\n",
    "                columns9[\"Transaction_amount\"].append(amount)\n",
    "                columns9[\"States\"].append(state)\n",
    "                columns9[\"Years\"].append(year)\n",
    "                columns9[\"Quarter\"].append(int(file.strip(\".json\")))\n",
    "                 "
   ]
  },
  {
   "cell_type": "code",
   "execution_count": null,
   "metadata": {},
   "outputs": [],
   "source": [
    "df_top_insurance = pd.DataFrame(columns9)\n"
   ]
  },
  {
   "cell_type": "code",
   "execution_count": null,
   "metadata": {},
   "outputs": [],
   "source": [
    "df_top_insurance"
   ]
  },
  {
   "cell_type": "code",
   "execution_count": null,
   "metadata": {},
   "outputs": [],
   "source": [
    "#converting dataframes into csv\n",
    "\n",
    "df_aggre_transaction.to_csv('aggre_transaction.csv',index = False)\n",
    "df_aggre_user.to_csv('aggre_user.csv',index = False)\n",
    "df_aggre_insurance.to_csv('aggre_insurance.csv',index = False)\n",
    "df_map_transaction.to_csv('map_transaction.csv',index = False)\n",
    "df_map_user.to_csv('map_user.csv',index = False)\n",
    "df_map_insurance.to_csv('map_insurance.csv',index = False)\n",
    "df_top_transaction.to_csv('top_transaction.csv',index = False)\n",
    "df_top_user.to_csv('top_user.csv',index = False)\n",
    "df_top_insurance.to_csv('top_insurance.csv',index = False)\n"
   ]
  },
  {
   "cell_type": "code",
   "execution_count": null,
   "metadata": {},
   "outputs": [],
   "source": [
    "#creating connection with MySQL\n",
    "#connecting with SQL\n",
    "\n",
    "mydb = sql.connect(host = 'localhost',\n",
    "    user = 'root',\n",
    "    password = 'Faith@0808',\n",
    "    database = 'Phonepe_Pulse',\n",
    "    port=3306)\n",
    "mycursor = mydb.cursor(buffered = True)"
   ]
  },
  {
   "cell_type": "code",
   "execution_count": null,
   "metadata": {},
   "outputs": [],
   "source": [
    "mycursor.execute(\"USE Phonepe_Pulse\")"
   ]
  },
  {
   "cell_type": "code",
   "execution_count": null,
   "metadata": {},
   "outputs": [],
   "source": [
    "# Creating agg_trans table\n",
    "mycursor.execute(\"create table agg_trans (State varchar(100), Year int, Quarter int, Transaction_type varchar(100), Transaction_count int, Transaction_amount double)\")\n",
    "\n",
    "for i,row in df_aggre_transaction.iterrows():\n",
    "    #here %S means string values \n",
    "    sql = \"INSERT INTO agg_trans VALUES (%s,%s,%s,%s,%s,%s)\"\n",
    "    mycursor.execute(sql, tuple(row))\n",
    "    # the connection is not auto committed by default, so we must commit to save our changes\n",
    "    mydb.commit()"
   ]
  },
  {
   "cell_type": "code",
   "execution_count": null,
   "metadata": {},
   "outputs": [],
   "source": [
    "# Creating agg_user table\n",
    "mycursor.execute(\"create table agg_user (State varchar(100), Year int, Quarter int, Brands varchar(100), Count int, Percentage double)\")\n",
    "\n",
    "for i,row in df_aggre_user.iterrows():\n",
    "    sql = \"INSERT INTO agg_user VALUES (%s,%s,%s,%s,%s,%s)\"\n",
    "    mycursor.execute(sql, tuple(row))\n",
    "    mydb.commit()"
   ]
  },
  {
   "cell_type": "code",
   "execution_count": null,
   "metadata": {},
   "outputs": [],
   "source": [
    "# Creating map_trans table\n",
    "mycursor.execute(\"create table map_trans (State varchar(100), Year int, Quarter int, District varchar(100), Count int, Amount double)\")\n",
    "\n",
    "for i,row in df_map_transaction.iterrows():\n",
    "    sql = \"INSERT INTO map_trans VALUES (%s,%s,%s,%s,%s,%s)\"\n",
    "    mycursor.execute(sql, tuple(row))\n",
    "    mydb.commit()"
   ]
  },
  {
   "cell_type": "code",
   "execution_count": null,
   "metadata": {},
   "outputs": [],
   "source": [
    "# Creating map_user table\n",
    "mycursor.execute(\"create table map_user (State varchar(100), Year int, Quarter int, District varchar(100), Registered_user int, App_opens Bigint)\")\n",
    "\n",
    "for i,row in df_map_user.iterrows():\n",
    "    sql = \"INSERT INTO map_user VALUES (%s,%s,%s,%s,%s,%s)\"\n",
    "    mycursor.execute(sql, tuple(row))\n",
    "    mydb.commit()"
   ]
  },
  {
   "cell_type": "code",
   "execution_count": null,
   "metadata": {},
   "outputs": [],
   "source": [
    "# Creating top_trans table\n",
    "mycursor.execute(\"create table top_trans (State varchar(100), Year int, Quarter int, Pincode int, Transaction_count int, Transaction_amount double)\")\n",
    "\n",
    "for i,row in df_top_transaction.iterrows():\n",
    "    sql = \"INSERT INTO top_trans VALUES (%s,%s,%s,%s,%s,%s)\"\n",
    "    mycursor.execute(sql, tuple(row))\n",
    "    mydb.commit()"
   ]
  },
  {
   "cell_type": "code",
   "execution_count": null,
   "metadata": {},
   "outputs": [],
   "source": [
    "# Creating top_user table\n",
    "mycursor.execute(\"create table top_user (State varchar(100), Year int, Quarter int, Pincode int, Registered_users int)\")\n",
    "\n",
    "for i,row in df_top_user.iterrows():\n",
    "    sql = \"INSERT INTO top_user VALUES (%s,%s,%s,%s,%s)\"\n",
    "    mycursor.execute(sql, tuple(row))\n",
    "    mydb.commit()"
   ]
  },
  {
   "cell_type": "code",
   "execution_count": null,
   "metadata": {},
   "outputs": [],
   "source": [
    "mycursor.execute(\"show tables\")\n",
    "mycursor.fetchall()"
   ]
  },
  {
   "cell_type": "code",
   "execution_count": null,
   "metadata": {},
   "outputs": [],
   "source": []
  }
 ],
 "metadata": {
  "kernelspec": {
   "display_name": "Python 3",
   "language": "python",
   "name": "python3"
  },
  "language_info": {
   "codemirror_mode": {
    "name": "ipython",
    "version": 3
   },
   "file_extension": ".py",
   "mimetype": "text/x-python",
   "name": "python",
   "nbconvert_exporter": "python",
   "pygments_lexer": "ipython3",
   "version": "3.12.0"
  }
 },
 "nbformat": 4,
 "nbformat_minor": 2
}
